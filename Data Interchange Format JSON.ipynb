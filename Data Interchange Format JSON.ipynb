{
 "cells": [
  {
   "cell_type": "markdown",
   "id": "1f0c3701",
   "metadata": {},
   "source": [
    "# Data Interchange Format JSON\n",
    "\n",
    "Used in the context of Aplication Programme Interface (API)\n",
    "\n",
    "\n",
    "Similar to dictionaries in that it has key & Value pairs\n",
    "\n",
    "The data is in a list denoted by the square brackets and within that the items are within the {} as keys and values."
   ]
  },
  {
   "cell_type": "code",
   "execution_count": null,
   "id": "3b9bbf08",
   "metadata": {},
   "outputs": [],
   "source": [
    "#this is the json data loaded into a variable 'data'. This can also be done by retrieving infromation from a url...\n",
    "data = ''' \n",
    "[\n",
    "  { \"id\" : \"001\",\n",
    "    \"x\" : \"2\",\n",
    "    \"name\" : \"Chuck\"\n",
    "  } ,\n",
    "  { \"id\" : \"009\",\n",
    "    \"x\" : \"7\",\n",
    "    \"name\" : \"Brent\"\n",
    "  } \n",
    "] ''' #[] denotes a list and #{} denotes a dictionary i.e. there are two dictionaries within the 'data' list\n",
    "\n",
    "# Made this a string as this is how it would be in the JSON format i.e. the last for loop only works as we have used the json.loads(data) - this converts it from a JSON string into an equivilant list with dictionaries within it."
   ]
  },
  {
   "cell_type": "markdown",
   "id": "44661abe",
   "metadata": {},
   "source": [
    "The idea of json is to allow you to retrieve and process data from an external database in a programming language independent format. So for example, you will retrieve infromation from a website in json format and use the json library to go through and pull out the data you would like:"
   ]
  },
  {
   "cell_type": "code",
   "execution_count": null,
   "id": "3786fde1",
   "metadata": {},
   "outputs": [],
   "source": [
    "import json \n",
    "\n",
    "info = json.loads(data) # this converts the JSON string into an equivilant dictionary and stores it as 'info'\n",
    "\n",
    "for item in info: #looping through each item in info to get the Name, Id and Attribute \n",
    "    print('Name', item['name'])\n",
    "    print('Id', item['id'])\n",
    "    print('Attribute', item['x']) "
   ]
  }
 ],
 "metadata": {
  "kernelspec": {
   "display_name": "Python 3 (ipykernel)",
   "language": "python",
   "name": "python3"
  },
  "language_info": {
   "codemirror_mode": {
    "name": "ipython",
    "version": 3
   },
   "file_extension": ".py",
   "mimetype": "text/x-python",
   "name": "python",
   "nbconvert_exporter": "python",
   "pygments_lexer": "ipython3",
   "version": "3.10.9"
  }
 },
 "nbformat": 4,
 "nbformat_minor": 5
}
