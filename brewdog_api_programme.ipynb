{
 "cells": [
  {
   "cell_type": "markdown",
   "id": "02eb0917",
   "metadata": {},
   "source": [
    "# Brewdog API project - Beer Recommendation Programme\n",
    "\n",
    "### Summary\n",
    " - Developed a working knowledge of accessing JSON endpoints from a url and how to use these within Python. \n",
    " - Used the Punk IPA API to return a recommended list of beers based on user specified variables. \n",
    " - Used the JSON Python library to retrieve data from a url.\n",
    " - Maintained the ability to parse lists and dictionaries nested within each other. \n",
    " ***\n",
    "### Consuming the information from the API \n",
    "I have used an F string to allow for the user input variables of df and da for food and alcohol content respectively. The information is then stored as data."
   ]
  },
  {
   "cell_type": "code",
   "execution_count": 8,
   "id": "7707a69e",
   "metadata": {},
   "outputs": [
    {
     "name": "stdout",
     "output_type": "stream",
     "text": [
      "Enter a food: pizza\n",
      "Enter an ABV: 4\n"
     ]
    }
   ],
   "source": [
    "import json\n",
    "import requests\n",
    "\n",
    "df = input ('Enter a food: ')\n",
    "da = input ('Enter an ABV: ')\n",
    "\n",
    "url = 'https://api.punkapi.com/v2/beers?food='+v1+'&abv='+v2+'' \n",
    "\n",
    "r = requests.get(url)\n",
    "\n",
    "data = json.loads(r.text)"
   ]
  },
  {
   "cell_type": "markdown",
   "id": "79900272",
   "metadata": {},
   "source": [
    "I have then use my knowledge of parsing nested dictionaries and strings to pull out the desired information. By creating an empty list I have appended a dictionary with keys and values referncing the name of the beers, the associated tagline and the abv content."
   ]
  },
  {
   "cell_type": "code",
   "execution_count": 6,
   "id": "5eabc3e9",
   "metadata": {},
   "outputs": [
    {
     "name": "stdout",
     "output_type": "stream",
     "text": [
      "[{'name': 'Movember', 'tagline': 'Moustache-Worthy Beer.', 'abv': 4.5}, {'name': 'Comet', 'tagline': 'Single Hop India Pale Ale', 'abv': 7.2}, {'name': 'Simcoe', 'tagline': 'Single Hop India Pale Ale.', 'abv': 6.7}, {'name': 'Monk Hammer', 'tagline': 'Our Ruthless IPA With A Belgian Twist.', 'abv': 7.2}, {'name': 'Small Batch: Sorachi Ace Session', 'tagline': 'Sorachi Ace Belgian Pale.', 'abv': 4}, {'name': 'Hazy Jane Bourbon Barrel Aged', 'tagline': 'Bourbon Barrel Vermont IPA.', 'abv': 7.2}, {'name': 'Sonic Boom', 'tagline': 'New German Hop IPA.', 'abv': 6.5}]\n"
     ]
    }
   ],
   "source": [
    "beer_list =[]\n",
    "\n",
    "for item in data:\n",
    "    name = item['name'] #the terms here can be found in the json data \n",
    "    tagline = item['tagline']\n",
    "    abv = item['abv']\n",
    "    \n",
    "    #creating a dictionary of key and value pairs for each beer\n",
    "    \n",
    "    beer_details = {'name':name, 'tagline':tagline, 'abv':abv}\n",
    "    beer_list.append(beer_details) \n",
    "    \n",
    "print(beer_list)"
   ]
  },
  {
   "cell_type": "markdown",
   "id": "0d263ac2",
   "metadata": {},
   "source": [
    "To make the data representation easier for the user I have used tabulate to create a table from the beer list."
   ]
  },
  {
   "cell_type": "code",
   "execution_count": 7,
   "id": "06eb2ff9",
   "metadata": {},
   "outputs": [
    {
     "name": "stdout",
     "output_type": "stream",
     "text": [
      "name                              tagline                                   abv\n",
      "--------------------------------  --------------------------------------  -----\n",
      "Movember                          Moustache-Worthy Beer.                    4.5\n",
      "Comet                             Single Hop India Pale Ale                 7.2\n",
      "Simcoe                            Single Hop India Pale Ale.                6.7\n",
      "Monk Hammer                       Our Ruthless IPA With A Belgian Twist.    7.2\n",
      "Small Batch: Sorachi Ace Session  Sorachi Ace Belgian Pale.                 4\n",
      "Hazy Jane Bourbon Barrel Aged     Bourbon Barrel Vermont IPA.               7.2\n",
      "Sonic Boom                        New German Hop IPA.                       6.5\n"
     ]
    }
   ],
   "source": [
    "import tabulate\n",
    "header = beer_list[0].keys()\n",
    "rows = [x.values() for x in beer_list]\n",
    "print(tabulate.tabulate(rows, header))"
   ]
  }
 ],
 "metadata": {
  "kernelspec": {
   "display_name": "Python 3 (ipykernel)",
   "language": "python",
   "name": "python3"
  },
  "language_info": {
   "codemirror_mode": {
    "name": "ipython",
    "version": 3
   },
   "file_extension": ".py",
   "mimetype": "text/x-python",
   "name": "python",
   "nbconvert_exporter": "python",
   "pygments_lexer": "ipython3",
   "version": "3.10.9"
  }
 },
 "nbformat": 4,
 "nbformat_minor": 5
}
